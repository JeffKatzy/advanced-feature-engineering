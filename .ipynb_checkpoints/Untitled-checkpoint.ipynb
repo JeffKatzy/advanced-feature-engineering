{
 "cells": [
  {
   "cell_type": "markdown",
   "metadata": {},
   "source": [
    "# Feature engineering"
   ]
  },
  {
   "cell_type": "markdown",
   "metadata": {},
   "source": [
    "1. Group by \n",
    "    * Idea is that it's grouped by, and then find the min and max price\n",
    "    * This way can see what it's competing against\n",
    "2. But then can also consider\n",
    "    * Average prices, std of prices\n",
    "    * The most visited page of a user. \n",
    "    * Number of pages user visited during the given session\n",
    "    * Number of users that visisted that page."
   ]
  },
  {
   "cell_type": "markdown",
   "metadata": {},
   "source": [
    "Nearest neighbors with:"
   ]
  },
  {
   "cell_type": "markdown",
   "metadata": {},
   "source": [
    "1. *Number* of houses in 500 meters, 1000 meters\n",
    "2. Average price per square meter in such neighborhoods\n",
    "3. Number of schools, supermarkets and parking lots in those neighborhoods\n",
    "4. Distance to closest subway station or gyms (or objects of interest)\n"
   ]
  },
  {
   "cell_type": "markdown",
   "metadata": {},
   "source": [
    "Springleaf competition\n",
    "    * KNN for all of the features\n",
    "    \n",
    "    1. Mean target of nearest 2000 neighbors\n",
    "    2. Mean distance to 10 closest neighbors\n",
    "    3. Mean distance to 10 closest with target 1\n",
    "    4. Mean distance to 10 closest with target 0"
   ]
  },
  {
   "cell_type": "code",
   "execution_count": null,
   "metadata": {},
   "outputs": [],
   "source": []
  }
 ],
 "metadata": {
  "kernelspec": {
   "display_name": "Python 3",
   "language": "python",
   "name": "python3"
  },
  "language_info": {
   "codemirror_mode": {
    "name": "ipython",
    "version": 3
   },
   "file_extension": ".py",
   "mimetype": "text/x-python",
   "name": "python",
   "nbconvert_exporter": "python",
   "pygments_lexer": "ipython3",
   "version": "3.7.4"
  }
 },
 "nbformat": 4,
 "nbformat_minor": 4
}

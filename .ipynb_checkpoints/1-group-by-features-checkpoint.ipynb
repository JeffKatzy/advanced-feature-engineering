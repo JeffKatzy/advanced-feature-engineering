{
 "cells": [
  {
   "cell_type": "markdown",
   "metadata": {},
   "source": [
    "# Group By Features"
   ]
  },
  {
   "cell_type": "markdown",
   "metadata": {},
   "source": [
    "### Introduction"
   ]
  },
  {
   "cell_type": "code",
   "execution_count": null,
   "metadata": {},
   "outputs": [],
   "source": []
  },
  {
   "cell_type": "markdown",
   "metadata": {},
   "source": [
    "### Loading our Data"
   ]
  },
  {
   "cell_type": "markdown",
   "metadata": {},
   "source": [
    "Let's get started by loading our imdb data."
   ]
  },
  {
   "cell_type": "code",
   "execution_count": 4,
   "metadata": {},
   "outputs": [],
   "source": [
    "import pandas as pd\n",
    "\n",
    "df = pd.read_csv('./imdb_movies.csv')"
   ]
  },
  {
   "cell_type": "code",
   "execution_count": 5,
   "metadata": {},
   "outputs": [
    {
     "data": {
      "text/html": [
       "<div>\n",
       "<style scoped>\n",
       "    .dataframe tbody tr th:only-of-type {\n",
       "        vertical-align: middle;\n",
       "    }\n",
       "\n",
       "    .dataframe tbody tr th {\n",
       "        vertical-align: top;\n",
       "    }\n",
       "\n",
       "    .dataframe thead th {\n",
       "        text-align: right;\n",
       "    }\n",
       "</style>\n",
       "<table border=\"1\" class=\"dataframe\">\n",
       "  <thead>\n",
       "    <tr style=\"text-align: right;\">\n",
       "      <th></th>\n",
       "      <th>title</th>\n",
       "      <th>genre</th>\n",
       "      <th>budget</th>\n",
       "      <th>runtime</th>\n",
       "      <th>year</th>\n",
       "      <th>month</th>\n",
       "      <th>revenue</th>\n",
       "    </tr>\n",
       "  </thead>\n",
       "  <tbody>\n",
       "    <tr>\n",
       "      <th>0</th>\n",
       "      <td>Avatar</td>\n",
       "      <td>Action</td>\n",
       "      <td>237000000</td>\n",
       "      <td>162.0</td>\n",
       "      <td>2009</td>\n",
       "      <td>12</td>\n",
       "      <td>2787965087</td>\n",
       "    </tr>\n",
       "    <tr>\n",
       "      <th>1</th>\n",
       "      <td>Pirates of the Caribbean: At World's End</td>\n",
       "      <td>Adventure</td>\n",
       "      <td>300000000</td>\n",
       "      <td>169.0</td>\n",
       "      <td>2007</td>\n",
       "      <td>5</td>\n",
       "      <td>961000000</td>\n",
       "    </tr>\n",
       "  </tbody>\n",
       "</table>\n",
       "</div>"
      ],
      "text/plain": [
       "                                      title      genre     budget  runtime  \\\n",
       "0                                    Avatar     Action  237000000    162.0   \n",
       "1  Pirates of the Caribbean: At World's End  Adventure  300000000    169.0   \n",
       "\n",
       "   year  month     revenue  \n",
       "0  2009     12  2787965087  \n",
       "1  2007      5   961000000  "
      ]
     },
     "execution_count": 5,
     "metadata": {},
     "output_type": "execute_result"
    }
   ],
   "source": [
    "df[:2]"
   ]
  },
  {
   "cell_type": "markdown",
   "metadata": {},
   "source": [
    "### New Features"
   ]
  },
  {
   "cell_type": "markdown",
   "metadata": {},
   "source": [
    "The general idea behind group by features is that we can learn information about an observation by learning more about the group that it is a part of.  For example, if we see an Action movie from 2009, what's the mean revenue of action movies?  What about the mean revenue of action movies from 2009?  \n",
    "\n",
    "Beyond considering the mean value of the target, we can also use other statistics.  For example, maybe we should also consider the maximum revenue, minimum revenue and total number of action movies either in total, or from 2009.  Each of these statistics can be used to place an observation in context.  For example, knowing the maximum revenue of an action movie that year can give us a sense of the competition for the rest of the action movies from that year.\n",
    "\n",
    "Let's see how we can create some of these statistics."
   ]
  },
  {
   "cell_type": "code",
   "execution_count": 18,
   "metadata": {},
   "outputs": [],
   "source": [
    "genre_revenue = df.groupby('genre').describe()['revenue']"
   ]
  },
  {
   "cell_type": "code",
   "execution_count": 27,
   "metadata": {},
   "outputs": [],
   "source": [
    "genre_revenue_scoped = genre_revenue.iloc[:, :4]"
   ]
  },
  {
   "cell_type": "code",
   "execution_count": 30,
   "metadata": {},
   "outputs": [],
   "source": [
    "genre_cols = [f'genre_revenue_{col}'for col in genre_revenue_scoped.columns]\n",
    "genre_revenue_scoped.columns = genre_cols"
   ]
  },
  {
   "cell_type": "code",
   "execution_count": 31,
   "metadata": {},
   "outputs": [
    {
     "data": {
      "text/html": [
       "<div>\n",
       "<style scoped>\n",
       "    .dataframe tbody tr th:only-of-type {\n",
       "        vertical-align: middle;\n",
       "    }\n",
       "\n",
       "    .dataframe tbody tr th {\n",
       "        vertical-align: top;\n",
       "    }\n",
       "\n",
       "    .dataframe thead th {\n",
       "        text-align: right;\n",
       "    }\n",
       "</style>\n",
       "<table border=\"1\" class=\"dataframe\">\n",
       "  <thead>\n",
       "    <tr style=\"text-align: right;\">\n",
       "      <th></th>\n",
       "      <th>genre_revenue_genre_revenue_count</th>\n",
       "      <th>genre_revenue_genre_revenue_mean</th>\n",
       "      <th>genre_revenue_genre_revenue_std</th>\n",
       "      <th>genre_revenue_genre_revenue_min</th>\n",
       "    </tr>\n",
       "    <tr>\n",
       "      <th>genre</th>\n",
       "      <th></th>\n",
       "      <th></th>\n",
       "      <th></th>\n",
       "      <th></th>\n",
       "    </tr>\n",
       "  </thead>\n",
       "  <tbody>\n",
       "    <tr>\n",
       "      <th>Action</th>\n",
       "      <td>483.0</td>\n",
       "      <td>1.803353e+08</td>\n",
       "      <td>2.559558e+08</td>\n",
       "      <td>0.0</td>\n",
       "    </tr>\n",
       "    <tr>\n",
       "      <th>Adventure</th>\n",
       "      <td>236.0</td>\n",
       "      <td>2.788796e+08</td>\n",
       "      <td>2.789483e+08</td>\n",
       "      <td>0.0</td>\n",
       "    </tr>\n",
       "  </tbody>\n",
       "</table>\n",
       "</div>"
      ],
      "text/plain": [
       "           genre_revenue_genre_revenue_count  \\\n",
       "genre                                          \n",
       "Action                                 483.0   \n",
       "Adventure                              236.0   \n",
       "\n",
       "           genre_revenue_genre_revenue_mean  genre_revenue_genre_revenue_std  \\\n",
       "genre                                                                          \n",
       "Action                         1.803353e+08                     2.559558e+08   \n",
       "Adventure                      2.788796e+08                     2.789483e+08   \n",
       "\n",
       "           genre_revenue_genre_revenue_min  \n",
       "genre                                       \n",
       "Action                                 0.0  \n",
       "Adventure                              0.0  "
      ]
     },
     "execution_count": 31,
     "metadata": {},
     "output_type": "execute_result"
    }
   ],
   "source": [
    "genre_revenue_scoped[:2]"
   ]
  },
  {
   "cell_type": "code",
   "execution_count": 33,
   "metadata": {},
   "outputs": [
    {
     "data": {
      "text/html": [
       "<div>\n",
       "<style scoped>\n",
       "    .dataframe tbody tr th:only-of-type {\n",
       "        vertical-align: middle;\n",
       "    }\n",
       "\n",
       "    .dataframe tbody tr th {\n",
       "        vertical-align: top;\n",
       "    }\n",
       "\n",
       "    .dataframe thead th {\n",
       "        text-align: right;\n",
       "    }\n",
       "</style>\n",
       "<table border=\"1\" class=\"dataframe\">\n",
       "  <thead>\n",
       "    <tr style=\"text-align: right;\">\n",
       "      <th></th>\n",
       "      <th>title</th>\n",
       "      <th>genre</th>\n",
       "      <th>budget</th>\n",
       "      <th>runtime</th>\n",
       "      <th>year</th>\n",
       "      <th>month</th>\n",
       "      <th>revenue</th>\n",
       "      <th>genre_revenue_genre_revenue_count</th>\n",
       "      <th>genre_revenue_genre_revenue_mean</th>\n",
       "      <th>genre_revenue_genre_revenue_std</th>\n",
       "      <th>genre_revenue_genre_revenue_min</th>\n",
       "    </tr>\n",
       "  </thead>\n",
       "  <tbody>\n",
       "    <tr>\n",
       "      <th>0</th>\n",
       "      <td>Avatar</td>\n",
       "      <td>Action</td>\n",
       "      <td>237000000</td>\n",
       "      <td>162.0</td>\n",
       "      <td>2009</td>\n",
       "      <td>12</td>\n",
       "      <td>2787965087</td>\n",
       "      <td>483.0</td>\n",
       "      <td>1.803353e+08</td>\n",
       "      <td>2.559558e+08</td>\n",
       "      <td>0.0</td>\n",
       "    </tr>\n",
       "    <tr>\n",
       "      <th>1</th>\n",
       "      <td>Pirates of the Caribbean: At World's End</td>\n",
       "      <td>Adventure</td>\n",
       "      <td>300000000</td>\n",
       "      <td>169.0</td>\n",
       "      <td>2007</td>\n",
       "      <td>5</td>\n",
       "      <td>961000000</td>\n",
       "      <td>236.0</td>\n",
       "      <td>2.788796e+08</td>\n",
       "      <td>2.789483e+08</td>\n",
       "      <td>0.0</td>\n",
       "    </tr>\n",
       "    <tr>\n",
       "      <th>2</th>\n",
       "      <td>Spectre</td>\n",
       "      <td>Action</td>\n",
       "      <td>245000000</td>\n",
       "      <td>148.0</td>\n",
       "      <td>2015</td>\n",
       "      <td>10</td>\n",
       "      <td>880674609</td>\n",
       "      <td>483.0</td>\n",
       "      <td>1.803353e+08</td>\n",
       "      <td>2.559558e+08</td>\n",
       "      <td>0.0</td>\n",
       "    </tr>\n",
       "  </tbody>\n",
       "</table>\n",
       "</div>"
      ],
      "text/plain": [
       "                                      title      genre     budget  runtime  \\\n",
       "0                                    Avatar     Action  237000000    162.0   \n",
       "1  Pirates of the Caribbean: At World's End  Adventure  300000000    169.0   \n",
       "2                                   Spectre     Action  245000000    148.0   \n",
       "\n",
       "   year  month     revenue  genre_revenue_genre_revenue_count  \\\n",
       "0  2009     12  2787965087                              483.0   \n",
       "1  2007      5   961000000                              236.0   \n",
       "2  2015     10   880674609                              483.0   \n",
       "\n",
       "   genre_revenue_genre_revenue_mean  genre_revenue_genre_revenue_std  \\\n",
       "0                      1.803353e+08                     2.559558e+08   \n",
       "1                      2.788796e+08                     2.789483e+08   \n",
       "2                      1.803353e+08                     2.559558e+08   \n",
       "\n",
       "   genre_revenue_genre_revenue_min  \n",
       "0                              0.0  \n",
       "1                              0.0  \n",
       "2                              0.0  "
      ]
     },
     "execution_count": 33,
     "metadata": {},
     "output_type": "execute_result"
    }
   ],
   "source": [
    "df.join(genre_revenue_scoped, on = 'genre')[:3]"
   ]
  },
  {
   "cell_type": "markdown",
   "metadata": {},
   "source": [
    "### Grouping by Two Categories"
   ]
  },
  {
   "cell_type": "markdown",
   "metadata": {},
   "source": [
    "Now let's group by month *and* the year."
   ]
  },
  {
   "cell_type": "code",
   "execution_count": 43,
   "metadata": {},
   "outputs": [],
   "source": [
    "genre_revenue_year = df.groupby(['genre', 'year']).describe()['revenue']"
   ]
  },
  {
   "cell_type": "code",
   "execution_count": 44,
   "metadata": {},
   "outputs": [
    {
     "data": {
      "text/html": [
       "<div>\n",
       "<style scoped>\n",
       "    .dataframe tbody tr th:only-of-type {\n",
       "        vertical-align: middle;\n",
       "    }\n",
       "\n",
       "    .dataframe tbody tr th {\n",
       "        vertical-align: top;\n",
       "    }\n",
       "\n",
       "    .dataframe thead th {\n",
       "        text-align: right;\n",
       "    }\n",
       "</style>\n",
       "<table border=\"1\" class=\"dataframe\">\n",
       "  <thead>\n",
       "    <tr style=\"text-align: right;\">\n",
       "      <th></th>\n",
       "      <th></th>\n",
       "      <th>count</th>\n",
       "      <th>mean</th>\n",
       "      <th>std</th>\n",
       "      <th>min</th>\n",
       "      <th>25%</th>\n",
       "      <th>50%</th>\n",
       "      <th>75%</th>\n",
       "      <th>max</th>\n",
       "    </tr>\n",
       "    <tr>\n",
       "      <th>genre</th>\n",
       "      <th>year</th>\n",
       "      <th></th>\n",
       "      <th></th>\n",
       "      <th></th>\n",
       "      <th></th>\n",
       "      <th></th>\n",
       "      <th></th>\n",
       "      <th></th>\n",
       "      <th></th>\n",
       "    </tr>\n",
       "  </thead>\n",
       "  <tbody>\n",
       "    <tr>\n",
       "      <th rowspan=\"2\" valign=\"top\">Action</th>\n",
       "      <th>1978</th>\n",
       "      <td>1.0</td>\n",
       "      <td>300218018.0</td>\n",
       "      <td>NaN</td>\n",
       "      <td>300218018.0</td>\n",
       "      <td>3.002180e+08</td>\n",
       "      <td>300218018.0</td>\n",
       "      <td>3.002180e+08</td>\n",
       "      <td>300218018.0</td>\n",
       "    </tr>\n",
       "    <tr>\n",
       "      <th>1979</th>\n",
       "      <td>2.0</td>\n",
       "      <td>121031920.5</td>\n",
       "      <td>1.262556e+08</td>\n",
       "      <td>31755742.0</td>\n",
       "      <td>7.639383e+07</td>\n",
       "      <td>121031920.5</td>\n",
       "      <td>1.656700e+08</td>\n",
       "      <td>210308099.0</td>\n",
       "    </tr>\n",
       "  </tbody>\n",
       "</table>\n",
       "</div>"
      ],
      "text/plain": [
       "             count         mean           std          min           25%  \\\n",
       "genre  year                                                                \n",
       "Action 1978    1.0  300218018.0           NaN  300218018.0  3.002180e+08   \n",
       "       1979    2.0  121031920.5  1.262556e+08   31755742.0  7.639383e+07   \n",
       "\n",
       "                     50%           75%          max  \n",
       "genre  year                                          \n",
       "Action 1978  300218018.0  3.002180e+08  300218018.0  \n",
       "       1979  121031920.5  1.656700e+08  210308099.0  "
      ]
     },
     "execution_count": 44,
     "metadata": {},
     "output_type": "execute_result"
    }
   ],
   "source": [
    "genre_revenue_year[:2]"
   ]
  },
  {
   "cell_type": "markdown",
   "metadata": {},
   "source": [
    "We can undo the multi-indexing with a call to `reset_index`."
   ]
  },
  {
   "cell_type": "code",
   "execution_count": 59,
   "metadata": {},
   "outputs": [
    {
     "data": {
      "text/html": [
       "<div>\n",
       "<style scoped>\n",
       "    .dataframe tbody tr th:only-of-type {\n",
       "        vertical-align: middle;\n",
       "    }\n",
       "\n",
       "    .dataframe tbody tr th {\n",
       "        vertical-align: top;\n",
       "    }\n",
       "\n",
       "    .dataframe thead th {\n",
       "        text-align: right;\n",
       "    }\n",
       "</style>\n",
       "<table border=\"1\" class=\"dataframe\">\n",
       "  <thead>\n",
       "    <tr style=\"text-align: right;\">\n",
       "      <th></th>\n",
       "      <th>genre</th>\n",
       "      <th>year</th>\n",
       "      <th>count</th>\n",
       "      <th>mean</th>\n",
       "      <th>std</th>\n",
       "      <th>min</th>\n",
       "      <th>25%</th>\n",
       "      <th>50%</th>\n",
       "      <th>75%</th>\n",
       "      <th>max</th>\n",
       "    </tr>\n",
       "  </thead>\n",
       "  <tbody>\n",
       "    <tr>\n",
       "      <th>0</th>\n",
       "      <td>Action</td>\n",
       "      <td>1978</td>\n",
       "      <td>1.0</td>\n",
       "      <td>300218018.0</td>\n",
       "      <td>NaN</td>\n",
       "      <td>300218018.0</td>\n",
       "      <td>3.002180e+08</td>\n",
       "      <td>300218018.0</td>\n",
       "      <td>3.002180e+08</td>\n",
       "      <td>300218018.0</td>\n",
       "    </tr>\n",
       "    <tr>\n",
       "      <th>1</th>\n",
       "      <td>Action</td>\n",
       "      <td>1979</td>\n",
       "      <td>2.0</td>\n",
       "      <td>121031920.5</td>\n",
       "      <td>1.262556e+08</td>\n",
       "      <td>31755742.0</td>\n",
       "      <td>7.639383e+07</td>\n",
       "      <td>121031920.5</td>\n",
       "      <td>1.656700e+08</td>\n",
       "      <td>210308099.0</td>\n",
       "    </tr>\n",
       "    <tr>\n",
       "      <th>2</th>\n",
       "      <td>Action</td>\n",
       "      <td>1980</td>\n",
       "      <td>3.0</td>\n",
       "      <td>64647679.0</td>\n",
       "      <td>1.089695e+08</td>\n",
       "      <td>0.0</td>\n",
       "      <td>1.742166e+06</td>\n",
       "      <td>3484331.0</td>\n",
       "      <td>9.697152e+07</td>\n",
       "      <td>190458706.0</td>\n",
       "    </tr>\n",
       "  </tbody>\n",
       "</table>\n",
       "</div>"
      ],
      "text/plain": [
       "    genre  year  count         mean           std          min           25%  \\\n",
       "0  Action  1978    1.0  300218018.0           NaN  300218018.0  3.002180e+08   \n",
       "1  Action  1979    2.0  121031920.5  1.262556e+08   31755742.0  7.639383e+07   \n",
       "2  Action  1980    3.0   64647679.0  1.089695e+08          0.0  1.742166e+06   \n",
       "\n",
       "           50%           75%          max  \n",
       "0  300218018.0  3.002180e+08  300218018.0  \n",
       "1  121031920.5  1.656700e+08  210308099.0  \n",
       "2    3484331.0  9.697152e+07  190458706.0  "
      ]
     },
     "execution_count": 59,
     "metadata": {},
     "output_type": "execute_result"
    }
   ],
   "source": [
    "genre_revenue_year.reset_index()[:3]"
   ]
  },
  {
   "cell_type": "markdown",
   "metadata": {},
   "source": [
    "And then we can merge to our original dataframe."
   ]
  },
  {
   "cell_type": "markdown",
   "metadata": {},
   "source": [
    "> We cannot use join because we are joining on more than one column."
   ]
  },
  {
   "cell_type": "code",
   "execution_count": 58,
   "metadata": {},
   "outputs": [
    {
     "data": {
      "text/html": [
       "<div>\n",
       "<style scoped>\n",
       "    .dataframe tbody tr th:only-of-type {\n",
       "        vertical-align: middle;\n",
       "    }\n",
       "\n",
       "    .dataframe tbody tr th {\n",
       "        vertical-align: top;\n",
       "    }\n",
       "\n",
       "    .dataframe thead th {\n",
       "        text-align: right;\n",
       "    }\n",
       "</style>\n",
       "<table border=\"1\" class=\"dataframe\">\n",
       "  <thead>\n",
       "    <tr style=\"text-align: right;\">\n",
       "      <th></th>\n",
       "      <th>title</th>\n",
       "      <th>genre</th>\n",
       "      <th>budget</th>\n",
       "      <th>runtime</th>\n",
       "      <th>year</th>\n",
       "      <th>month</th>\n",
       "      <th>revenue</th>\n",
       "      <th>count</th>\n",
       "      <th>mean</th>\n",
       "      <th>std</th>\n",
       "      <th>min</th>\n",
       "      <th>25%</th>\n",
       "      <th>50%</th>\n",
       "      <th>75%</th>\n",
       "      <th>max</th>\n",
       "    </tr>\n",
       "  </thead>\n",
       "  <tbody>\n",
       "    <tr>\n",
       "      <th>0</th>\n",
       "      <td>Avatar</td>\n",
       "      <td>Action</td>\n",
       "      <td>237000000</td>\n",
       "      <td>162.0</td>\n",
       "      <td>2009</td>\n",
       "      <td>12</td>\n",
       "      <td>2787965087</td>\n",
       "      <td>19.0</td>\n",
       "      <td>2.843350e+08</td>\n",
       "      <td>6.396596e+08</td>\n",
       "      <td>0.0</td>\n",
       "      <td>13382100.50</td>\n",
       "      <td>60462347.0</td>\n",
       "      <td>1.842761e+08</td>\n",
       "      <td>2.787965e+09</td>\n",
       "    </tr>\n",
       "    <tr>\n",
       "      <th>1</th>\n",
       "      <td>Pirates of the Caribbean: At World's End</td>\n",
       "      <td>Adventure</td>\n",
       "      <td>300000000</td>\n",
       "      <td>169.0</td>\n",
       "      <td>2007</td>\n",
       "      <td>5</td>\n",
       "      <td>961000000</td>\n",
       "      <td>12.0</td>\n",
       "      <td>3.200090e+08</td>\n",
       "      <td>3.548982e+08</td>\n",
       "      <td>0.0</td>\n",
       "      <td>73059433.50</td>\n",
       "      <td>166661469.5</td>\n",
       "      <td>4.566036e+08</td>\n",
       "      <td>9.610000e+08</td>\n",
       "    </tr>\n",
       "    <tr>\n",
       "      <th>2</th>\n",
       "      <td>Spectre</td>\n",
       "      <td>Action</td>\n",
       "      <td>245000000</td>\n",
       "      <td>148.0</td>\n",
       "      <td>2015</td>\n",
       "      <td>10</td>\n",
       "      <td>880674609</td>\n",
       "      <td>22.0</td>\n",
       "      <td>4.157347e+08</td>\n",
       "      <td>4.904857e+08</td>\n",
       "      <td>0.0</td>\n",
       "      <td>93782370.25</td>\n",
       "      <td>162411174.5</td>\n",
       "      <td>6.076939e+08</td>\n",
       "      <td>1.513529e+09</td>\n",
       "    </tr>\n",
       "  </tbody>\n",
       "</table>\n",
       "</div>"
      ],
      "text/plain": [
       "                                      title      genre     budget  runtime  \\\n",
       "0                                    Avatar     Action  237000000    162.0   \n",
       "1  Pirates of the Caribbean: At World's End  Adventure  300000000    169.0   \n",
       "2                                   Spectre     Action  245000000    148.0   \n",
       "\n",
       "   year  month     revenue  count          mean           std  min  \\\n",
       "0  2009     12  2787965087   19.0  2.843350e+08  6.396596e+08  0.0   \n",
       "1  2007      5   961000000   12.0  3.200090e+08  3.548982e+08  0.0   \n",
       "2  2015     10   880674609   22.0  4.157347e+08  4.904857e+08  0.0   \n",
       "\n",
       "           25%          50%           75%           max  \n",
       "0  13382100.50   60462347.0  1.842761e+08  2.787965e+09  \n",
       "1  73059433.50  166661469.5  4.566036e+08  9.610000e+08  \n",
       "2  93782370.25  162411174.5  6.076939e+08  1.513529e+09  "
      ]
     },
     "execution_count": 58,
     "metadata": {},
     "output_type": "execute_result"
    }
   ],
   "source": [
    "df.merge(genre_revenue_year.reset_index(), \n",
    "        how='left', left_on=['genre','year'], \n",
    "        right_on = ['genre','year'])[:3]"
   ]
  },
  {
   "cell_type": "markdown",
   "metadata": {},
   "source": [
    "### The Danger of Mean Target Encoding"
   ]
  },
  {
   "cell_type": "markdown",
   "metadata": {},
   "source": [
    "So far, by using statistics based on the target value, we run the risk of encoding the target as a feature.  This is a form of data leakage and overfitting -- as we would not have target information on future data.  To avoid this, we can employ cross validation, as we saw in the mean target encoding lesson.  Or we can try to protect against this by finding these statistics on a subset, or different set of data than the data we train on."
   ]
  },
  {
   "cell_type": "markdown",
   "metadata": {},
   "source": [
    "Finally, as we'll discuss in the next section, we can avoid target statistics altogether, ."
   ]
  },
  {
   "cell_type": "markdown",
   "metadata": {},
   "source": [
    "### Beyond Target Statistics"
   ]
  },
  {
   "cell_type": "markdown",
   "metadata": {},
   "source": [
    "It's worth pointing out that while so far we have grouped by to find statistics based on the target, we can also find statistics that have nothing to do with the target.  For example, in this example, we could look at the average budget per year, per genre, or both, and add that as a feature.\n",
    "\n",
    "Finally, it is not a far step from this to dividing by this average amount.  Let's do this for budget.  We'll divide budget by the average budget for that year."
   ]
  },
  {
   "cell_type": "code",
   "execution_count": 68,
   "metadata": {},
   "outputs": [],
   "source": [
    "mean_budget_by_year = df.groupby(['year']).describe()['budget'][['mean']]\n",
    "# mean_budget_by_year"
   ]
  },
  {
   "cell_type": "code",
   "execution_count": 72,
   "metadata": {},
   "outputs": [],
   "source": [
    "mean_budget_by_year.columns = ['mean_budget']"
   ]
  },
  {
   "cell_type": "code",
   "execution_count": 75,
   "metadata": {},
   "outputs": [
    {
     "data": {
      "text/html": [
       "<div>\n",
       "<style scoped>\n",
       "    .dataframe tbody tr th:only-of-type {\n",
       "        vertical-align: middle;\n",
       "    }\n",
       "\n",
       "    .dataframe tbody tr th {\n",
       "        vertical-align: top;\n",
       "    }\n",
       "\n",
       "    .dataframe thead th {\n",
       "        text-align: right;\n",
       "    }\n",
       "</style>\n",
       "<table border=\"1\" class=\"dataframe\">\n",
       "  <thead>\n",
       "    <tr style=\"text-align: right;\">\n",
       "      <th></th>\n",
       "      <th>title</th>\n",
       "      <th>genre</th>\n",
       "      <th>budget</th>\n",
       "      <th>runtime</th>\n",
       "      <th>year</th>\n",
       "      <th>month</th>\n",
       "      <th>revenue</th>\n",
       "      <th>mean_budget</th>\n",
       "    </tr>\n",
       "  </thead>\n",
       "  <tbody>\n",
       "    <tr>\n",
       "      <th>0</th>\n",
       "      <td>Avatar</td>\n",
       "      <td>Action</td>\n",
       "      <td>237000000</td>\n",
       "      <td>162.0</td>\n",
       "      <td>2009</td>\n",
       "      <td>12</td>\n",
       "      <td>2787965087</td>\n",
       "      <td>65957466.52</td>\n",
       "    </tr>\n",
       "    <tr>\n",
       "      <th>1</th>\n",
       "      <td>Harry Potter and the Half-Blood Prince</td>\n",
       "      <td>Adventure</td>\n",
       "      <td>250000000</td>\n",
       "      <td>153.0</td>\n",
       "      <td>2009</td>\n",
       "      <td>7</td>\n",
       "      <td>933959197</td>\n",
       "      <td>65957466.52</td>\n",
       "    </tr>\n",
       "  </tbody>\n",
       "</table>\n",
       "</div>"
      ],
      "text/plain": [
       "                                    title      genre     budget  runtime  \\\n",
       "0                                  Avatar     Action  237000000    162.0   \n",
       "1  Harry Potter and the Half-Blood Prince  Adventure  250000000    153.0   \n",
       "\n",
       "   year  month     revenue  mean_budget  \n",
       "0  2009     12  2787965087  65957466.52  \n",
       "1  2009      7   933959197  65957466.52  "
      ]
     },
     "execution_count": 75,
     "metadata": {},
     "output_type": "execute_result"
    }
   ],
   "source": [
    "mean_budget_df = df.merge(mean_budget_by_year, right_on = 'year', left_on = 'year')\n",
    "mean_budget_df[:2]"
   ]
  },
  {
   "cell_type": "code",
   "execution_count": 77,
   "metadata": {},
   "outputs": [],
   "source": [
    "budget_percent_mean = mean_budget_df['budget']/mean_budget_df['mean_budget']"
   ]
  },
  {
   "cell_type": "code",
   "execution_count": 78,
   "metadata": {},
   "outputs": [],
   "source": [
    "df_mean_budget = df.assign(budget_percent_mean = budget_percent_mean)"
   ]
  },
  {
   "cell_type": "code",
   "execution_count": 79,
   "metadata": {},
   "outputs": [
    {
     "data": {
      "text/html": [
       "<div>\n",
       "<style scoped>\n",
       "    .dataframe tbody tr th:only-of-type {\n",
       "        vertical-align: middle;\n",
       "    }\n",
       "\n",
       "    .dataframe tbody tr th {\n",
       "        vertical-align: top;\n",
       "    }\n",
       "\n",
       "    .dataframe thead th {\n",
       "        text-align: right;\n",
       "    }\n",
       "</style>\n",
       "<table border=\"1\" class=\"dataframe\">\n",
       "  <thead>\n",
       "    <tr style=\"text-align: right;\">\n",
       "      <th></th>\n",
       "      <th>title</th>\n",
       "      <th>genre</th>\n",
       "      <th>budget</th>\n",
       "      <th>runtime</th>\n",
       "      <th>year</th>\n",
       "      <th>month</th>\n",
       "      <th>revenue</th>\n",
       "      <th>budget_percent_mean</th>\n",
       "    </tr>\n",
       "  </thead>\n",
       "  <tbody>\n",
       "    <tr>\n",
       "      <th>0</th>\n",
       "      <td>Avatar</td>\n",
       "      <td>Action</td>\n",
       "      <td>237000000</td>\n",
       "      <td>162.0</td>\n",
       "      <td>2009</td>\n",
       "      <td>12</td>\n",
       "      <td>2787965087</td>\n",
       "      <td>3.593225</td>\n",
       "    </tr>\n",
       "    <tr>\n",
       "      <th>1</th>\n",
       "      <td>Pirates of the Caribbean: At World's End</td>\n",
       "      <td>Adventure</td>\n",
       "      <td>300000000</td>\n",
       "      <td>169.0</td>\n",
       "      <td>2007</td>\n",
       "      <td>5</td>\n",
       "      <td>961000000</td>\n",
       "      <td>3.790321</td>\n",
       "    </tr>\n",
       "  </tbody>\n",
       "</table>\n",
       "</div>"
      ],
      "text/plain": [
       "                                      title      genre     budget  runtime  \\\n",
       "0                                    Avatar     Action  237000000    162.0   \n",
       "1  Pirates of the Caribbean: At World's End  Adventure  300000000    169.0   \n",
       "\n",
       "   year  month     revenue  budget_percent_mean  \n",
       "0  2009     12  2787965087             3.593225  \n",
       "1  2007      5   961000000             3.790321  "
      ]
     },
     "execution_count": 79,
     "metadata": {},
     "output_type": "execute_result"
    }
   ],
   "source": [
    "df_mean_budget[:2]"
   ]
  },
  {
   "cell_type": "markdown",
   "metadata": {},
   "source": [
    "### Summary"
   ]
  },
  {
   "cell_type": "markdown",
   "metadata": {},
   "source": [
    "In this lesson we saw ways to generate features by using groupby.  Groupby is a way of telling us more information about the characteristics of an observation by learning about it's group.  For example, to predict the amount of money a movie will make, it might be good to know about how similar movies from that year performed.  \n",
    "\n",
    "We can use groupby to encode statistics about the target, or other features.  When adding our statistics, it's important to consider what information we will have at the time of our future predictions.  For example, if we're encoding the average made by movies that year, we won't have that information if we are trying to make predictions for future years.  We also should beware of overfitting when encoding information about the mean.  \n",
    "\n",
    "Still, the risk of overfitting does not mean that we should avoid these statistics altogether, as we should be able to assess the cost of overfitting by assessing our model on our holdout set."
   ]
  }
 ],
 "metadata": {
  "kernelspec": {
   "display_name": "Python 3",
   "language": "python",
   "name": "python3"
  },
  "language_info": {
   "codemirror_mode": {
    "name": "ipython",
    "version": 3
   },
   "file_extension": ".py",
   "mimetype": "text/x-python",
   "name": "python",
   "nbconvert_exporter": "python",
   "pygments_lexer": "ipython3",
   "version": "3.7.4"
  }
 },
 "nbformat": 4,
 "nbformat_minor": 4
}
